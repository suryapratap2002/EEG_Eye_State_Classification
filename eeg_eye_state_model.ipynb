{
  "nbformat": 4,
  "nbformat_minor": 0,
  "metadata": {
    "colab": {
      "provenance": []
    },
    "kernelspec": {
      "name": "python3",
      "display_name": "Python 3"
    },
    "language_info": {
      "name": "python"
    }
  },
  "cells": [
    {
      "cell_type": "markdown",
      "source": [
        "# ✅ **EEG Eye State Dataset (UCI)**"
      ],
      "metadata": {
        "id": "hG3BbmDOkoKb"
      }
    },
    {
      "cell_type": "markdown",
      "source": [
        "##🔹**Import and Preparing Data**"
      ],
      "metadata": {
        "id": "8TUX-3zjnDlR"
      }
    },
    {
      "cell_type": "code",
      "source": [
        "from ucimlrepo import fetch_ucirepo\n",
        "import pandas as pd\n",
        "import numpy as np\n",
        "\n",
        "# Fetching EEG dataset\n",
        "eeg_eye_state = fetch_ucirepo(id=264)\n",
        "X = eeg_eye_state.data.features\n",
        "y = eeg_eye_state.data.targets\n",
        "\n",
        "# Binary classification: Ensuring y is a 1D array\n",
        "y = y.values.ravel()\n"
      ],
      "metadata": {
        "id": "TCOIp4mYkAHs"
      },
      "execution_count": 10,
      "outputs": []
    },
    {
      "cell_type": "markdown",
      "source": [
        "##🔹 **PREPROCESSING**"
      ],
      "metadata": {
        "id": "8L7BoXyvk76u"
      }
    },
    {
      "cell_type": "code",
      "source": [
        "from sklearn.model_selection import train_test_split\n",
        "from sklearn.preprocessing import StandardScaler\n",
        "\n",
        "# Train-test split\n",
        "X_train, X_test, y_train, y_test = train_test_split(\n",
        "    X, y, test_size=0.2, random_state=42, stratify=y)\n",
        "\n",
        "# Standardization\n",
        "scaler = StandardScaler()\n",
        "X_train_scaled = scaler.fit_transform(X_train)\n",
        "X_test_scaled = scaler.transform(X_test)"
      ],
      "metadata": {
        "id": "4ii6UBJYkFiV"
      },
      "execution_count": 12,
      "outputs": []
    },
    {
      "cell_type": "code",
      "source": [
        "# Check for null and missing value\n",
        "X.isnull().sum()"
      ],
      "metadata": {
        "colab": {
          "base_uri": "https://localhost:8080/",
          "height": 523
        },
        "id": "3ZdRT1pFmfdw",
        "outputId": "14da57a9-4833-429c-c883-2425ade78fa6"
      },
      "execution_count": 11,
      "outputs": [
        {
          "output_type": "execute_result",
          "data": {
            "text/plain": [
              "AF3    0\n",
              "F7     0\n",
              "F3     0\n",
              "FC5    0\n",
              "T7     0\n",
              "P7     0\n",
              "O1     0\n",
              "O2     0\n",
              "P8     0\n",
              "T8     0\n",
              "FC6    0\n",
              "F4     0\n",
              "F8     0\n",
              "AF4    0\n",
              "dtype: int64"
            ],
            "text/html": [
              "<div>\n",
              "<style scoped>\n",
              "    .dataframe tbody tr th:only-of-type {\n",
              "        vertical-align: middle;\n",
              "    }\n",
              "\n",
              "    .dataframe tbody tr th {\n",
              "        vertical-align: top;\n",
              "    }\n",
              "\n",
              "    .dataframe thead th {\n",
              "        text-align: right;\n",
              "    }\n",
              "</style>\n",
              "<table border=\"1\" class=\"dataframe\">\n",
              "  <thead>\n",
              "    <tr style=\"text-align: right;\">\n",
              "      <th></th>\n",
              "      <th>0</th>\n",
              "    </tr>\n",
              "  </thead>\n",
              "  <tbody>\n",
              "    <tr>\n",
              "      <th>AF3</th>\n",
              "      <td>0</td>\n",
              "    </tr>\n",
              "    <tr>\n",
              "      <th>F7</th>\n",
              "      <td>0</td>\n",
              "    </tr>\n",
              "    <tr>\n",
              "      <th>F3</th>\n",
              "      <td>0</td>\n",
              "    </tr>\n",
              "    <tr>\n",
              "      <th>FC5</th>\n",
              "      <td>0</td>\n",
              "    </tr>\n",
              "    <tr>\n",
              "      <th>T7</th>\n",
              "      <td>0</td>\n",
              "    </tr>\n",
              "    <tr>\n",
              "      <th>P7</th>\n",
              "      <td>0</td>\n",
              "    </tr>\n",
              "    <tr>\n",
              "      <th>O1</th>\n",
              "      <td>0</td>\n",
              "    </tr>\n",
              "    <tr>\n",
              "      <th>O2</th>\n",
              "      <td>0</td>\n",
              "    </tr>\n",
              "    <tr>\n",
              "      <th>P8</th>\n",
              "      <td>0</td>\n",
              "    </tr>\n",
              "    <tr>\n",
              "      <th>T8</th>\n",
              "      <td>0</td>\n",
              "    </tr>\n",
              "    <tr>\n",
              "      <th>FC6</th>\n",
              "      <td>0</td>\n",
              "    </tr>\n",
              "    <tr>\n",
              "      <th>F4</th>\n",
              "      <td>0</td>\n",
              "    </tr>\n",
              "    <tr>\n",
              "      <th>F8</th>\n",
              "      <td>0</td>\n",
              "    </tr>\n",
              "    <tr>\n",
              "      <th>AF4</th>\n",
              "      <td>0</td>\n",
              "    </tr>\n",
              "  </tbody>\n",
              "</table>\n",
              "</div><br><label><b>dtype:</b> int64</label>"
            ]
          },
          "metadata": {},
          "execution_count": 11
        }
      ]
    },
    {
      "cell_type": "markdown",
      "source": [
        "##🔹 **FEATURE SELECTION**"
      ],
      "metadata": {
        "id": "05Xb45dblNEv"
      }
    },
    {
      "cell_type": "code",
      "source": [
        "from sklearn.feature_selection import SelectKBest, f_classif\n",
        "\n",
        "selector = SelectKBest(score_func=f_classif, k=8)\n",
        "X_train_sel = selector.fit_transform(X_train_scaled, y_train)\n",
        "X_test_sel = selector.transform(X_test_scaled)"
      ],
      "metadata": {
        "id": "Yq1AOGlTlCJH"
      },
      "execution_count": 13,
      "outputs": []
    },
    {
      "cell_type": "markdown",
      "source": [
        "#✳️ **Models & Evaluation Function**"
      ],
      "metadata": {
        "id": "R1_HZ0NalXG2"
      }
    },
    {
      "cell_type": "markdown",
      "source": [
        "## 🔸**Evaluation Function**"
      ],
      "metadata": {
        "id": "M2-aL9NMnXG6"
      }
    },
    {
      "cell_type": "code",
      "source": [
        "from sklearn.metrics import accuracy_score, precision_score, recall_score\n",
        "\n",
        "def evaluate_model(name, y_true, y_pred):\n",
        "    acc = accuracy_score(y_true, y_pred)\n",
        "    prec = precision_score(y_true, y_pred)\n",
        "    rec = recall_score(y_true, y_pred)\n",
        "    print(f\"\\n📊 {name} Evaluation:\")\n",
        "    print(f\"Accuracy : {acc:.4f}\")\n",
        "    print(f\"Precision: {prec:.4f}\")\n",
        "    print(f\"Recall   : {rec:.4f}\")\n",
        "    return {\"Model\": name, \"Accuracy\": acc, \"Precision\": prec, \"Recall\": rec}\n"
      ],
      "metadata": {
        "id": "X1VEkq4VlP1D"
      },
      "execution_count": 14,
      "outputs": []
    },
    {
      "cell_type": "markdown",
      "source": [
        "##🌲 **Random Forest**"
      ],
      "metadata": {
        "id": "i1SQaBWpngDv"
      }
    },
    {
      "cell_type": "code",
      "source": [
        "from sklearn.ensemble import RandomForestClassifier\n",
        "rf = RandomForestClassifier(random_state=42)\n",
        "rf.fit(X_train_sel, y_train)\n",
        "rf_pred = rf.predict(X_test_sel)\n",
        "\n",
        "rf_results = evaluate_model(\"Random Forest\", y_test, rf_pred)"
      ],
      "metadata": {
        "colab": {
          "base_uri": "https://localhost:8080/"
        },
        "id": "de6dwij4nj21",
        "outputId": "9fd599ed-f927-4589-a609-b39cca6024fc"
      },
      "execution_count": 15,
      "outputs": [
        {
          "output_type": "stream",
          "name": "stdout",
          "text": [
            "\n",
            "📊 Random Forest Evaluation:\n",
            "Accuracy : 0.8628\n",
            "Precision: 0.8872\n",
            "Recall   : 0.7955\n"
          ]
        }
      ]
    },
    {
      "cell_type": "markdown",
      "source": [
        "##🧠 **XGBoost**"
      ],
      "metadata": {
        "id": "rz_grRGanmt_"
      }
    },
    {
      "cell_type": "code",
      "source": [
        "from xgboost import XGBClassifier\n",
        "\n",
        "xgb = XGBClassifier(use_label_encoder=False, eval_metric='logloss')\n",
        "xgb.fit(X_train_sel, y_train)\n",
        "xgb_pred = xgb.predict(X_test_sel)\n",
        "\n",
        "xgb_results = evaluate_model(\"XGBoost\", y_test, xgb_pred)\n"
      ],
      "metadata": {
        "colab": {
          "base_uri": "https://localhost:8080/"
        },
        "id": "sSTLmHu5nph_",
        "outputId": "a9d25ca9-291f-493c-a66b-be1ea89ae9bc"
      },
      "execution_count": 16,
      "outputs": [
        {
          "output_type": "stream",
          "name": "stderr",
          "text": [
            "/usr/local/lib/python3.11/dist-packages/xgboost/core.py:158: UserWarning: [04:20:07] WARNING: /workspace/src/learner.cc:740: \n",
            "Parameters: { \"use_label_encoder\" } are not used.\n",
            "\n",
            "  warnings.warn(smsg, UserWarning)\n"
          ]
        },
        {
          "output_type": "stream",
          "name": "stdout",
          "text": [
            "\n",
            "📊 XGBoost Evaluation:\n",
            "Accuracy : 0.8438\n",
            "Precision: 0.8477\n",
            "Recall   : 0.7948\n"
          ]
        }
      ]
    },
    {
      "cell_type": "markdown",
      "source": [
        "##🔁 **LSTM**"
      ],
      "metadata": {
        "id": "C7OKNDpRnwjW"
      }
    },
    {
      "cell_type": "code",
      "source": [
        "from tensorflow.keras.models import Sequential\n",
        "from tensorflow.keras.layers import LSTM, Dense\n",
        "from tensorflow.keras.utils import to_categorical\n",
        "\n",
        "# Reshaping input: (samples, timesteps=1, features)\n",
        "X_train_lstm = X_train_sel.reshape((X_train_sel.shape[0], 1, X_train_sel.shape[1]))\n",
        "X_test_lstm = X_test_sel.reshape((X_test_sel.shape[0], 1, X_test_sel.shape[1]))\n",
        "\n",
        "# Converting labels to categorical (for softmax)\n",
        "y_train_cat = to_categorical(y_train)\n",
        "y_test_cat = to_categorical(y_test)\n",
        "\n",
        "# Building LSTM\n",
        "lstm = Sequential([\n",
        "    LSTM(32, input_shape=(1, X_train_sel.shape[1]), activation='tanh'),\n",
        "    Dense(2, activation='softmax')\n",
        "])\n",
        "\n",
        "lstm.compile(optimizer='adam', loss='categorical_crossentropy', metrics=['accuracy'])\n",
        "\n",
        "# Training the model\n",
        "lstm.fit(X_train_lstm, y_train_cat, epochs=10, batch_size=32, verbose=0)\n",
        "\n",
        "# Prediction\n",
        "y_pred_lstm_prob = lstm.predict(X_test_lstm)\n",
        "y_pred_lstm = np.argmax(y_pred_lstm_prob, axis=1)\n",
        "\n",
        "lstm_results = evaluate_model(\"LSTM\", y_test, y_pred_lstm)"
      ],
      "metadata": {
        "colab": {
          "base_uri": "https://localhost:8080/"
        },
        "id": "6ABkbPk_n0UH",
        "outputId": "c93b8645-d4d7-48c5-e585-9395f54a257e"
      },
      "execution_count": 17,
      "outputs": [
        {
          "output_type": "stream",
          "name": "stderr",
          "text": [
            "/usr/local/lib/python3.11/dist-packages/keras/src/layers/rnn/rnn.py:200: UserWarning: Do not pass an `input_shape`/`input_dim` argument to a layer. When using Sequential models, prefer using an `Input(shape)` object as the first layer in the model instead.\n",
            "  super().__init__(**kwargs)\n"
          ]
        },
        {
          "output_type": "stream",
          "name": "stdout",
          "text": [
            "\u001b[1m94/94\u001b[0m \u001b[32m━━━━━━━━━━━━━━━━━━━━\u001b[0m\u001b[37m\u001b[0m \u001b[1m0s\u001b[0m 3ms/step\n",
            "\n",
            "📊 LSTM Evaluation:\n",
            "Accuracy : 0.6746\n",
            "Precision: 0.6735\n",
            "Recall   : 0.5338\n"
          ]
        }
      ]
    },
    {
      "cell_type": "markdown",
      "source": [
        "##🔸 **Compare models result**"
      ],
      "metadata": {
        "id": "j1XstCs1n7I5"
      }
    },
    {
      "cell_type": "code",
      "source": [
        "import pandas as pd\n",
        "\n",
        "results_df = pd.DataFrame([rf_results, xgb_results, lstm_results])\n",
        "print(\"\\n📋 Model Comparison:\\n\")\n",
        "print(results_df.to_markdown(index=False))"
      ],
      "metadata": {
        "colab": {
          "base_uri": "https://localhost:8080/"
        },
        "id": "nOiyFcmtoqLo",
        "outputId": "964ee823-0028-44bb-e084-69002499a049"
      },
      "execution_count": 20,
      "outputs": [
        {
          "output_type": "stream",
          "name": "stdout",
          "text": [
            "\n",
            "📋 Model Comparison:\n",
            "\n",
            "| Model         |   Accuracy |   Precision |   Recall |\n",
            "|:--------------|-----------:|------------:|---------:|\n",
            "| Random Forest |   0.862817 |    0.887231 | 0.795539 |\n",
            "| XGBoost       |   0.843792 |    0.84774  | 0.794796 |\n",
            "| LSTM          |   0.674566 |    0.673546 | 0.533829 |\n"
          ]
        }
      ]
    },
    {
      "cell_type": "code",
      "source": [
        "import matplotlib.pyplot as plt\n",
        "from sklearn.metrics import confusion_matrix, ConfusionMatrixDisplay\n",
        "\n",
        "\n",
        "cm_rf = confusion_matrix(y_test, rf_pred)\n",
        "cm_xgb = confusion_matrix(y_test, xgb_pred)\n",
        "cm_lstm = confusion_matrix(y_test, y_pred_lstm)\n",
        "\n",
        "fig, axes = plt.subplots(1, 3, figsize=(16, 4))\n",
        "\n",
        "disp_rf = ConfusionMatrixDisplay(confusion_matrix=cm_rf)\n",
        "disp_rf.plot(ax=axes[0], cmap='Blues', colorbar=False)\n",
        "axes[0].set_title(\"Random Forest\")\n",
        "\n",
        "disp_xgb = ConfusionMatrixDisplay(confusion_matrix=cm_xgb)\n",
        "disp_xgb.plot(ax=axes[1], cmap='Reds', colorbar=False)\n",
        "axes[1].set_title(\"XGBoost\")\n",
        "\n",
        "disp_lstm = ConfusionMatrixDisplay(confusion_matrix=cm_lstm)\n",
        "disp_lstm.plot(ax=axes[2], cmap='Greens', colorbar=False)\n",
        "axes[2].set_title(\"LSTM\")\n",
        "\n",
        "plt.tight_layout()\n",
        "plt.suptitle(\"Confusion Matrices Comparison\", fontsize=16, y=1.05)\n",
        "plt.show()\n"
      ],
      "metadata": {
        "colab": {
          "base_uri": "https://localhost:8080/",
          "height": 394
        },
        "id": "PlJNAjn3ss6x",
        "outputId": "a687909b-18ec-4a40-8ae0-193cab9bbc2c"
      },
      "execution_count": 28,
      "outputs": [
        {
          "output_type": "display_data",
          "data": {
            "text/plain": [
              "<Figure size 1600x400 with 3 Axes>"
            ],
            "image/png": "[encoded data removed]"
          },
          "metadata": {}
        }
      ]
    },
    {
      "cell_type": "markdown",
      "source": [
        "# **EEG Eye State Classification**\n",
        "\n",
        "## 📌 **Problem Statement**\n",
        "\n",
        "Develop a machine learning prototype that predicts **eye state (open or closed)** from EEG signal data. The goal is to classify fatigue or alertness levels from biosignals, which can support safety-critical systems such as driver drowsiness detection.\n",
        "\n",
        "Dataset used: [EEG Eye State Dataset – UCI Repository](https://archive.ics.uci.edu/dataset/264/eeg+eye+state)\n",
        "\n",
        "---\n",
        "\n",
        "## 🧠 **Models Used**\n",
        "\n",
        "Three supervised models were trained and compared:\n",
        "\n",
        "| Model          | Library        | Input Format             |\n",
        "|----------------|----------------|--------------------------|\n",
        "| Random Forest  | scikit-learn   | 2D (tabular features)     |\n",
        "| XGBoost        | xgboost        | 2D (tabular features)     |\n",
        "| LSTM           | TensorFlow/Keras | 3D (sequence format, timesteps = 1) |\n",
        "\n",
        "---\n",
        "\n",
        "## ⚙️ **Data Preprocessing**\n",
        "\n",
        "- **Null Handling**: No missing values\n",
        "- **Standardization**: Features scaled using `StandardScaler`\n",
        "- **Feature Selection**: Top 8 features selected via `SelectKBest`\n",
        "- **Train-Test Split**: 80% training, 20% testing (stratified on target)\n",
        "\n",
        "---\n",
        "\n",
        "## 📊 **Evaluation Metrics**\n",
        "\n",
        "All three models were evaluated using the following metrics:\n",
        "\n",
        "- **Accuracy**\n",
        "- **Precision**\n",
        "- **Recall**\n",
        "- **Confusion Matrix**\n",
        "\n",
        "---\n",
        "\n",
        "## 📈 **Results Summary**\n",
        "\n",
        "| Model          | Accuracy | Precision | Recall |\n",
        "|----------------|----------|-----------|--------|\n",
        "| Random Forest  | ~0.86    | ~0.88     | ~0.79  |\n",
        "| XGBoost        | ~0.84    | ~0.84     | ~0.79  |\n",
        "| LSTM           | ~0.67    | ~0.67     | ~0.53  |\n",
        "\n",
        "\n",
        "---\n",
        "\n",
        "## 📁 **Files**\n",
        "\n",
        "- `eeg_eye_state_model.ipynb`: Full model training and evaluation code\n",
        "- `README.md`: This summary file\n",
        "- `requirements.txt` (optional): List of required Python packages\n",
        "\n",
        "---\n",
        "\n",
        "## 🛰️ **Optional Digital Twin Integration**\n",
        "\n",
        "This model can be embedded into a **Digital Twin of a vehicle driver** or **machine operator** equipped with real-time EEG sensors. The Digital Twin system would:\n",
        "\n",
        "- Continuously monitor the user’s EEG signal\n",
        "- Use the trained model to classify eye state (open/closed)\n",
        "- Trigger alerts, slow down machinery, or activate autonomous features in case of drowsiness detection (eye closed over time)\n",
        "\n",
        "---\n",
        "\n",
        "## ✅ **Requirements**\n",
        "\n",
        "- Python 3.7+\n",
        "- Libraries: `pandas`, `numpy`, `scikit-learn`, `xgboost`, `tensorflow`, `ucimlrepo`, `matplotlib`, `seaborn`\n",
        "\n",
        "Installed using:\n",
        "\n",
        "```bash\n",
        "pip install pandas numpy scikit-learn xgboost tensorflow ucimlrepo matplotlib seaborn\n"
      ],
      "metadata": {
        "id": "atJI33cDlrn4"
      }
    },
    {
      "cell_type": "code",
      "source": [],
      "metadata": {
        "id": "LmHbZe-Plgdb"
      },
      "execution_count": null,
      "outputs": []
    }
  ]
}